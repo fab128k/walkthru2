{
 "cells": [
  {
   "cell_type": "markdown",
   "id": "be7021d0",
   "metadata": {},
   "source": [
    "# Walkthru sample notebook"
   ]
  },
  {
   "cell_type": "markdown",
   "id": "e7b968aa",
   "metadata": {},
   "source": [
    "How I calculate `1+1`:"
   ]
  },
  {
   "cell_type": "code",
   "execution_count": 1,
   "id": "42d997b2",
   "metadata": {},
   "outputs": [
    {
     "data": {
      "text/plain": [
       "2"
      ]
     },
     "execution_count": 1,
     "metadata": {},
     "output_type": "execute_result"
    }
   ],
   "source": [
    "1+1"
   ]
  },
  {
   "cell_type": "code",
   "execution_count": 2,
   "id": "5822f36a",
   "metadata": {},
   "outputs": [],
   "source": [
    "from numpy import *"
   ]
  },
  {
   "cell_type": "markdown",
   "id": "be048435",
   "metadata": {},
   "source": [
    "Here is how I calculate `sin`: "
   ]
  },
  {
   "cell_type": "code",
   "execution_count": 3,
   "id": "358f369f",
   "metadata": {},
   "outputs": [
    {
     "data": {
      "text/plain": [
       "array([0.84147098, 1.        ])"
      ]
     },
     "execution_count": 3,
     "metadata": {},
     "output_type": "execute_result"
    }
   ],
   "source": [
    "a = array([1.0, pi/2])\n",
    "sin(a)"
   ]
  },
  {
   "cell_type": "code",
   "execution_count": null,
   "id": "6073d134",
   "metadata": {},
   "outputs": [],
   "source": []
  }
 ],
 "metadata": {
  "kernelspec": {
   "display_name": "Python 3 (ipykernel)",
   "language": "python",
   "name": "python3"
  },
  "language_info": {
   "codemirror_mode": {
    "name": "ipython",
    "version": 3
   },
   "file_extension": ".py",
   "mimetype": "text/x-python",
   "name": "python",
   "nbconvert_exporter": "python",
   "pygments_lexer": "ipython3",
   "version": "3.10.6"
  }
 },
 "nbformat": 4,
 "nbformat_minor": 5
}
